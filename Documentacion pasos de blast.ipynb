{
 "cells": [
  {
   "cell_type": "markdown",
   "id": "8eb743e1",
   "metadata": {},
   "source": [
    "# Documetacion GPU vs CPU  09/05/2024\n",
    "\n",
    "### archivos necesarios \n",
    "    -blast\n",
    "    -gpu-blast  (Solo funciona con la version 2.2.28+ de blast)\n",
    "    -g-blastn-1.1 (Solo funciona con la version 2.2.28+ de blast) ___https://github.com/OpenHero/gblastn/wiki/Install-guide___ link del repo en el que me guio\n",
    "    __a dia de hoy aun no logro que funcionen__\n",
    "    - \n",
    "    "
   ]
  }
 ],
 "metadata": {
  "kernelspec": {
   "display_name": "Python 3 (ipykernel)",
   "language": "python",
   "name": "python3"
  },
  "language_info": {
   "codemirror_mode": {
    "name": "ipython",
    "version": 3
   },
   "file_extension": ".py",
   "mimetype": "text/x-python",
   "name": "python",
   "nbconvert_exporter": "python",
   "pygments_lexer": "ipython3",
   "version": "3.11.5"
  }
 },
 "nbformat": 4,
 "nbformat_minor": 5
}
